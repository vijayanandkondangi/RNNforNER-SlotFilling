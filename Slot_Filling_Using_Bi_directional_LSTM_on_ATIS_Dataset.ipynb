{
  "nbformat": 4,
  "nbformat_minor": 0,
  "metadata": {
    "colab": {
      "name": "Slot Filling Using Bi-directional LSTM on ATIS Dataset.ipynb",
      "provenance": []
    },
    "kernelspec": {
      "name": "python3",
      "display_name": "Python 3"
    },
    "language_info": {
      "name": "python"
    },
    "accelerator": "GPU"
  },
  "cells": [
    {
      "cell_type": "code",
      "metadata": {
        "id": "L889syGxOrte"
      },
      "source": [
        "# Import the required libraries and modules\n",
        "\n",
        "%tensorflow_version 2.x\n",
        "\n",
        "import numpy as np\n",
        "import pandas as pd\n",
        "import matplotlib.pyplot as plt\n",
        "import os\n",
        "import re\n",
        "import progressbar\n",
        "\n",
        "from keras.preprocessing.sequence import pad_sequences\n",
        "from keras.models import Model, load_model\n",
        "from keras.models import Sequential\n",
        "from keras.layers import Bidirectional, MaxPooling1D\n",
        "from keras.layers.embeddings import Embedding\n",
        "from keras.layers.recurrent import SimpleRNN, GRU, LSTM\n",
        "from keras.layers.core import Dense, Dropout\n",
        "from keras.layers.wrappers import TimeDistributed\n",
        "from keras.layers import Convolution1D, MaxPooling1D"
      ],
      "execution_count": null,
      "outputs": []
    },
    {
      "cell_type": "code",
      "metadata": {
        "colab": {
          "base_uri": "https://localhost:8080/"
        },
        "id": "t_7cNCRpPhTl",
        "outputId": "7c570229-f5f5-44cc-9bce-836f21ec914b"
      },
      "source": [
        "# Mount the google drive folder containing the data files\n",
        "\n",
        "from google.colab import drive\n",
        "\n",
        "drive.mount('/content/gdrive', force_remount = True)\n",
        "os.chdir('/content/gdrive/My Drive/IntentAndNERModel')"
      ],
      "execution_count": null,
      "outputs": [
        {
          "output_type": "stream",
          "text": [
            "Mounted at /content/gdrive\n"
          ],
          "name": "stdout"
        }
      ]
    },
    {
      "cell_type": "code",
      "metadata": {
        "id": "HAa2ejTyRIB8"
      },
      "source": [
        "# Read slot labels and words from CSV files\n",
        "\n",
        "# Load the list of slot labels in to a pandas dataframe\n",
        "slots_df = pd.read_csv(\"atis.dict.slots.csv\", header = None)\n",
        "\n",
        "# Load the list of words in to a pandas dataframe\n",
        "vocab_df = pd.read_csv(\"atis.dict.vocab.csv\", header = None)\n",
        "\n",
        "# Initialize & compose dictionaries for slot labels (i.e. index to slot label and slot label to index)\n",
        "# Use sequence numbers and slot labels as indexes of the dictionaries respectively\n",
        "ind2slot_dict = {}\n",
        "slot2ind_dict = {}\n",
        "for i in range(len(slots_df)):\n",
        "  ind2slot_dict[i] = slots_df.iloc[i, 0]\n",
        "  slot2ind_dict[slots_df.iloc[i, 0]] = i\n",
        "\n",
        "# Initialize & compose dictionaries for words (i.e. index to word and word to index)\n",
        "# Use sequence numbers and slots as indexes of the dictionaries respectively\n",
        "ind2word_dict = {}\n",
        "word2ind_dict = {}\n",
        "for i in range(len(vocab_df)):\n",
        "  ind2word_dict[i] = vocab_df.iloc[i, 0]\n",
        "  word2ind_dict[vocab_df.iloc[i, 0]] = i"
      ],
      "execution_count": null,
      "outputs": []
    },
    {
      "cell_type": "code",
      "metadata": {
        "colab": {
          "base_uri": "https://localhost:8080/"
        },
        "id": "V1HD6VfqSoJr",
        "outputId": "2e554352-a2b8-4e01-a988-f2e9396c300d"
      },
      "source": [
        "# Examine the dictionaries for sanity\n",
        "\n",
        "print(\"\\nIndex to slots..\\n\")\n",
        "print(ind2slot_dict)\n",
        "print(\"\\nSlots to index..\\n\")\n",
        "print(slot2ind_dict)\n",
        "\n",
        "print(\"\\nIndex to words..\\n\")\n",
        "print(ind2word_dict)\n",
        "print(\"\\nWords to Index..\\n\")\n",
        "print(word2ind_dict)"
      ],
      "execution_count": null,
      "outputs": [
        {
          "output_type": "stream",
          "text": [
            "\n",
            "Index to slots..\n",
            "\n",
            "{0: 'B-aircraft_code', 1: 'B-airline_code', 2: 'B-airline_name', 3: 'B-airport_code', 4: 'B-airport_name', 5: 'B-arrive_date.date_relative', 6: 'B-arrive_date.day_name', 7: 'B-arrive_date.day_number', 8: 'B-arrive_date.month_name', 9: 'B-arrive_date.today_relative', 10: 'B-arrive_time.end_time', 11: 'B-arrive_time.period_mod', 12: 'B-arrive_time.period_of_day', 13: 'B-arrive_time.start_time', 14: 'B-arrive_time.time', 15: 'B-arrive_time.time_relative', 16: 'B-booking_class', 17: 'B-city_name', 18: 'B-class_type', 19: 'B-compartment', 20: 'B-connect', 21: 'B-cost_relative', 22: 'B-day_name', 23: 'B-day_number', 24: 'B-days_code', 25: 'B-depart_date.date_relative', 26: 'B-depart_date.day_name', 27: 'B-depart_date.day_number', 28: 'B-depart_date.month_name', 29: 'B-depart_date.today_relative', 30: 'B-depart_date.year', 31: 'B-depart_time.end_time', 32: 'B-depart_time.period_mod', 33: 'B-depart_time.period_of_day', 34: 'B-depart_time.start_time', 35: 'B-depart_time.time', 36: 'B-depart_time.time_relative', 37: 'B-economy', 38: 'B-fare_amount', 39: 'B-fare_basis_code', 40: 'B-flight', 41: 'B-flight_days', 42: 'B-flight_mod', 43: 'B-flight_number', 44: 'B-flight_stop', 45: 'B-flight_time', 46: 'B-fromloc.airport_code', 47: 'B-fromloc.airport_name', 48: 'B-fromloc.city_name', 49: 'B-fromloc.state_code', 50: 'B-fromloc.state_name', 51: 'B-meal', 52: 'B-meal_code', 53: 'B-meal_description', 54: 'B-mod', 55: 'B-month_name', 56: 'B-or', 57: 'B-period_of_day', 58: 'B-restriction_code', 59: 'B-return_date.date_relative', 60: 'B-return_date.day_name', 61: 'B-return_date.day_number', 62: 'B-return_date.month_name', 63: 'B-return_date.today_relative', 64: 'B-return_time.period_mod', 65: 'B-return_time.period_of_day', 66: 'B-round_trip', 67: 'B-state_code', 68: 'B-state_name', 69: 'B-stoploc.airport_code', 70: 'B-stoploc.airport_name', 71: 'B-stoploc.city_name', 72: 'B-stoploc.state_code', 73: 'B-time', 74: 'B-time_relative', 75: 'B-today_relative', 76: 'B-toloc.airport_code', 77: 'B-toloc.airport_name', 78: 'B-toloc.city_name', 79: 'B-toloc.country_name', 80: 'B-toloc.state_code', 81: 'B-toloc.state_name', 82: 'B-transport_type', 83: 'I-airline_name', 84: 'I-airport_name', 85: 'I-arrive_date.day_number', 86: 'I-arrive_time.end_time', 87: 'I-arrive_time.period_of_day', 88: 'I-arrive_time.start_time', 89: 'I-arrive_time.time', 90: 'I-arrive_time.time_relative', 91: 'I-city_name', 92: 'I-class_type', 93: 'I-cost_relative', 94: 'I-depart_date.day_name', 95: 'I-depart_date.day_number', 96: 'I-depart_date.today_relative', 97: 'I-depart_time.end_time', 98: 'I-depart_time.period_of_day', 99: 'I-depart_time.start_time', 100: 'I-depart_time.time', 101: 'I-depart_time.time_relative', 102: 'I-economy', 103: 'I-fare_amount', 104: 'I-fare_basis_code', 105: 'I-flight_mod', 106: 'I-flight_number', 107: 'I-flight_stop', 108: 'I-flight_time', 109: 'I-fromloc.airport_name', 110: 'I-fromloc.city_name', 111: 'I-fromloc.state_name', 112: 'I-meal_code', 113: 'I-meal_description', 114: 'I-mod', 115: 'I-restriction_code', 116: 'I-return_date.date_relative', 117: 'I-return_date.day_number', 118: 'I-return_date.today_relative', 119: 'I-round_trip', 120: 'I-state_name', 121: 'I-stoploc.city_name', 122: 'I-time', 123: 'I-today_relative', 124: 'I-toloc.airport_name', 125: 'I-toloc.city_name', 126: 'I-toloc.state_name', 127: 'I-transport_type', 128: 'O'}\n",
            "\n",
            "Slots to index..\n",
            "\n",
            "{'B-aircraft_code': 0, 'B-airline_code': 1, 'B-airline_name': 2, 'B-airport_code': 3, 'B-airport_name': 4, 'B-arrive_date.date_relative': 5, 'B-arrive_date.day_name': 6, 'B-arrive_date.day_number': 7, 'B-arrive_date.month_name': 8, 'B-arrive_date.today_relative': 9, 'B-arrive_time.end_time': 10, 'B-arrive_time.period_mod': 11, 'B-arrive_time.period_of_day': 12, 'B-arrive_time.start_time': 13, 'B-arrive_time.time': 14, 'B-arrive_time.time_relative': 15, 'B-booking_class': 16, 'B-city_name': 17, 'B-class_type': 18, 'B-compartment': 19, 'B-connect': 20, 'B-cost_relative': 21, 'B-day_name': 22, 'B-day_number': 23, 'B-days_code': 24, 'B-depart_date.date_relative': 25, 'B-depart_date.day_name': 26, 'B-depart_date.day_number': 27, 'B-depart_date.month_name': 28, 'B-depart_date.today_relative': 29, 'B-depart_date.year': 30, 'B-depart_time.end_time': 31, 'B-depart_time.period_mod': 32, 'B-depart_time.period_of_day': 33, 'B-depart_time.start_time': 34, 'B-depart_time.time': 35, 'B-depart_time.time_relative': 36, 'B-economy': 37, 'B-fare_amount': 38, 'B-fare_basis_code': 39, 'B-flight': 40, 'B-flight_days': 41, 'B-flight_mod': 42, 'B-flight_number': 43, 'B-flight_stop': 44, 'B-flight_time': 45, 'B-fromloc.airport_code': 46, 'B-fromloc.airport_name': 47, 'B-fromloc.city_name': 48, 'B-fromloc.state_code': 49, 'B-fromloc.state_name': 50, 'B-meal': 51, 'B-meal_code': 52, 'B-meal_description': 53, 'B-mod': 54, 'B-month_name': 55, 'B-or': 56, 'B-period_of_day': 57, 'B-restriction_code': 58, 'B-return_date.date_relative': 59, 'B-return_date.day_name': 60, 'B-return_date.day_number': 61, 'B-return_date.month_name': 62, 'B-return_date.today_relative': 63, 'B-return_time.period_mod': 64, 'B-return_time.period_of_day': 65, 'B-round_trip': 66, 'B-state_code': 67, 'B-state_name': 68, 'B-stoploc.airport_code': 69, 'B-stoploc.airport_name': 70, 'B-stoploc.city_name': 71, 'B-stoploc.state_code': 72, 'B-time': 73, 'B-time_relative': 74, 'B-today_relative': 75, 'B-toloc.airport_code': 76, 'B-toloc.airport_name': 77, 'B-toloc.city_name': 78, 'B-toloc.country_name': 79, 'B-toloc.state_code': 80, 'B-toloc.state_name': 81, 'B-transport_type': 82, 'I-airline_name': 83, 'I-airport_name': 84, 'I-arrive_date.day_number': 85, 'I-arrive_time.end_time': 86, 'I-arrive_time.period_of_day': 87, 'I-arrive_time.start_time': 88, 'I-arrive_time.time': 89, 'I-arrive_time.time_relative': 90, 'I-city_name': 91, 'I-class_type': 92, 'I-cost_relative': 93, 'I-depart_date.day_name': 94, 'I-depart_date.day_number': 95, 'I-depart_date.today_relative': 96, 'I-depart_time.end_time': 97, 'I-depart_time.period_of_day': 98, 'I-depart_time.start_time': 99, 'I-depart_time.time': 100, 'I-depart_time.time_relative': 101, 'I-economy': 102, 'I-fare_amount': 103, 'I-fare_basis_code': 104, 'I-flight_mod': 105, 'I-flight_number': 106, 'I-flight_stop': 107, 'I-flight_time': 108, 'I-fromloc.airport_name': 109, 'I-fromloc.city_name': 110, 'I-fromloc.state_name': 111, 'I-meal_code': 112, 'I-meal_description': 113, 'I-mod': 114, 'I-restriction_code': 115, 'I-return_date.date_relative': 116, 'I-return_date.day_number': 117, 'I-return_date.today_relative': 118, 'I-round_trip': 119, 'I-state_name': 120, 'I-stoploc.city_name': 121, 'I-time': 122, 'I-today_relative': 123, 'I-toloc.airport_name': 124, 'I-toloc.city_name': 125, 'I-toloc.state_name': 126, 'I-transport_type': 127, 'O': 128}\n",
            "\n",
            "Index to words..\n",
            "\n",
            "{0: \"'d\", 1: \"'hare\", 2: \"'ll\", 3: \"'m\", 4: \"'re\", 5: \"'s\", 6: \"'t\", 7: \"'ve\", 8: '0900', 9: '1', 10: '10', 11: '100', 12: '1000', 13: '1017', 14: '1020', 15: '1024', 16: '1026', 17: '1030', 18: '1039', 19: '1045', 20: '1055', 21: '1059', 22: '106', 23: '1083', 24: '11', 25: '110', 26: '1100', 27: '1110', 28: '1115', 29: '1130', 30: '1133', 31: '1145', 32: '1158', 33: '12', 34: '1200', 35: '1201', 36: '1205', 37: '1207', 38: '1209', 39: '1220', 40: '1222', 41: '1230', 42: '124', 43: '1245', 44: '1288', 45: '1291', 46: '130', 47: '1300', 48: '137338', 49: '139', 50: '150', 51: '1500', 52: '1505', 53: '1600', 54: '163', 55: '1700', 56: '1765', 57: '1800', 58: '1850', 59: '19', 60: '1940', 61: '1991', 62: '1992', 63: '1993', 64: '1994', 65: '2', 66: '20', 67: '200', 68: '201', 69: '21', 70: '210', 71: '2100', 72: '212', 73: '2134', 74: '2153', 75: '217', 76: '225', 77: '229', 78: '230', 79: '257', 80: '269', 81: '270', 82: '271', 83: '279', 84: '281', 85: '296', 86: '297', 87: '3', 88: '300', 89: '305', 90: '311', 91: '315', 92: '320', 93: '323', 94: '324', 95: '329', 96: '3357', 97: '343', 98: '345', 99: '352', 100: '3724', 101: '382', 102: '4', 103: '400', 104: '402', 105: '405', 106: '415', 107: '416', 108: '417', 109: '419', 110: '420', 111: '428', 112: '43', 113: '430', 114: '4400', 115: '445', 116: '459', 117: '466', 118: '468', 119: '486', 120: '497766', 121: '5', 122: '500', 123: '505', 124: '515', 125: '530', 126: '539', 127: '55', 128: '555', 129: '57', 130: '6', 131: '608', 132: '615', 133: '630', 134: '639', 135: '645', 136: '650', 137: '665', 138: '673', 139: '7', 140: '705', 141: '71', 142: '718', 143: '720', 144: '723', 145: '727', 146: '72s', 147: '730', 148: '733', 149: '734', 150: '737', 151: '73s', 152: '746', 153: '747', 154: '755', 155: '757', 156: '767', 157: '771', 158: '8', 159: '80', 160: '810', 161: '811', 162: '813', 163: '815', 164: '819', 165: '82', 166: '823', 167: '825', 168: '838', 169: '842', 170: '845', 171: '852', 172: '9', 173: '928', 174: '932', 175: '934', 176: '950', 177: '98', 178: 'BOS', 179: 'EOS', 180: 'a', 181: 'aa', 182: 'abbreviation', 183: 'abbreviations', 184: 'able', 185: 'about', 186: 'ac', 187: 'across', 188: 'actually', 189: 'advertises', 190: 'after', 191: 'afternoon', 192: 'afternoons', 193: 'afterwards', 194: 'again', 195: 'air', 196: 'aircraft', 197: 'airfare', 198: 'airfares', 199: 'airline', 200: 'airlines', 201: 'airplane', 202: 'airplanes', 203: 'airport', 204: 'airports', 205: 'al', 206: 'alaska', 207: 'all', 208: 'along', 209: 'also', 210: 'am', 211: 'america', 212: 'american', 213: 'amount', 214: 'an', 215: 'and', 216: 'angeles', 217: 'another', 218: 'any', 219: 'anything', 220: 'anywhere', 221: 'ap', 222: 'ap57', 223: 'ap58', 224: 'ap68', 225: 'ap80', 226: 'approximately', 227: 'april', 228: 'are', 229: 'area', 230: 'arizona', 231: 'around', 232: 'arrange', 233: 'arrangements', 234: 'arrival', 235: 'arrivals', 236: 'arrive', 237: 'arrives', 238: 'arriving', 239: 'as', 240: 'at', 241: 'atl', 242: 'atlanta', 243: 'august', 244: 'available', 245: 'b', 246: 'back', 247: 'baltimore', 248: 'basis', 249: 'bay', 250: 'be', 251: 'be1', 252: 'beach', 253: 'before', 254: 'beginning', 255: 'begins', 256: 'being', 257: 'belong', 258: 'besides', 259: 'between', 260: 'bh', 261: 'bn', 262: 'bna', 263: 'boeing', 264: 'book', 265: 'booking', 266: 'boston', 267: 'both', 268: 'bound', 269: 'breakfast', 270: 'bring', 271: 'bur', 272: 'burbank', 273: 'business', 274: 'but', 275: 'buy', 276: 'bwi', 277: 'by', 278: 'c', 279: 'california', 280: 'called', 281: 'calling', 282: 'can', 283: 'canada', 284: 'canadian', 285: 'capacities', 286: 'capacity', 287: 'car', 288: 'carolina', 289: 'carried', 290: 'carries', 291: 'cars', 292: 'catch', 293: 'charges', 294: 'charlotte', 295: 'cheap', 296: 'cheapest', 297: 'chicago', 298: 'choices', 299: 'cincinnati', 300: 'cities', 301: 'city', 302: 'class', 303: 'classes', 304: 'cleveland', 305: 'close', 306: 'closest', 307: 'co', 308: 'coach', 309: 'code', 310: 'codes', 311: 'colorado', 312: 'columbus', 313: 'combination', 314: 'come', 315: 'comes', 316: 'coming', 317: 'companies', 318: 'concerning', 319: 'connect', 320: 'connecting', 321: 'connection', 322: 'connections', 323: 'connects', 324: 'continent', 325: 'continental', 326: 'continuing', 327: 'cost', 328: 'costs', 329: 'could', 330: 'county', 331: 'cover', 332: 'cp', 333: 'currently', 334: 'cvg', 335: 'd', 336: 'd10', 337: 'd9s', 338: 'daily', 339: 'dallas', 340: 'database', 341: 'date', 342: 'day', 343: 'days', 344: 'dc', 345: 'dc10', 346: 'dc9', 347: 'dca', 348: 'december', 349: 'define', 350: 'delta', 351: 'denver', 352: 'depart', 353: 'departing', 354: 'departs', 355: 'departure', 356: 'departures', 357: 'describe', 358: 'designate', 359: 'destination', 360: 'determine', 361: 'detroit', 362: 'dfw', 363: 'dh8', 364: 'diego', 365: 'difference', 366: 'different', 367: 'dinner', 368: 'dinnertime', 369: 'direct', 370: 'directly', 371: 'discount', 372: 'display', 373: 'distance', 374: 'dl', 375: 'do', 376: 'does', 377: 'doesn', 378: 'dollars', 379: 'don', 380: 'downtown', 381: 'dtw', 382: 'dulles', 383: 'during', 384: 'ea', 385: 'each', 386: 'earlier', 387: 'earliest', 388: 'early', 389: 'eastern', 390: 'economic', 391: 'economy', 392: 'eight', 393: 'eighteenth', 394: 'eighth', 395: 'either', 396: 'eleven', 397: 'eleventh', 398: 'else', 399: 'enroute', 400: 'equal', 401: 'equipment', 402: 'evening', 403: 'ever', 404: 'everywhere', 405: 'ewr', 406: 'exceeding', 407: 'expensive', 408: 'explain', 409: 'express', 410: 'eye', 411: 'f', 412: 'f28', 413: 'far', 414: 'fare', 415: 'fares', 416: 'february', 417: 'ff', 418: 'field', 419: 'fifteen', 420: 'fifteenth', 421: 'fifth', 422: 'final', 423: 'find', 424: 'fine', 425: 'first', 426: 'fit', 427: 'flies', 428: 'flight', 429: 'flights', 430: 'florida', 431: 'fly', 432: 'flying', 433: 'fn', 434: 'following', 435: 'for', 436: 'fort', 437: 'four', 438: 'fourteenth', 439: 'fourth', 440: 'francisco', 441: 'friday', 442: 'fridays', 443: 'friends', 444: 'from', 445: 'general', 446: 'georgia', 447: 'get', 448: 'gets', 449: 'give', 450: 'go', 451: 'goes', 452: 'going', 453: 'good', 454: 'got', 455: 'great', 456: 'greatest', 457: 'ground', 458: 'grounds', 459: 'guardia', 460: 'h', 461: 'hartfield', 462: 'has', 463: 'have', 464: 'having', 465: 'heading', 466: 'hello', 467: 'help', 468: 'here', 469: 'hi', 470: 'highest', 471: 'hold', 472: 'home', 473: 'hopefully', 474: 'hou', 475: 'hours', 476: 'houston', 477: 'how', 478: 'hp', 479: 'i', 480: 'iah', 481: 'if', 482: 'in', 483: 'include', 484: 'included', 485: 'includes', 486: 'including', 487: 'india', 488: 'indiana', 489: 'indianapolis', 490: 'inexpensive', 491: 'inform', 492: 'information', 493: 'instead', 494: 'intercontinental', 495: 'interested', 496: 'international', 497: 'into', 498: 'is', 499: 'it', 500: 'itinerary', 501: 'j31', 502: 'january', 503: 'jersey', 504: 'jet', 505: 'jfk', 506: 'jose', 507: 'july', 508: 'june', 509: 'just', 510: 'k', 511: 'kansas', 512: 'kennedy', 513: 'kind', 514: 'kindly', 515: 'kinds', 516: 'know', 517: 'kw', 518: 'l10', 519: 'l1011', 520: 'la', 521: 'lake', 522: 'land', 523: 'landing', 524: 'landings', 525: 'lands', 526: 'largest', 527: 'las', 528: 'last', 529: 'lastest', 530: 'late', 531: 'later', 532: 'latest', 533: 'lax', 534: 'laying', 535: 'layover', 536: 'least', 537: 'leave', 538: 'leaves', 539: 'leaving', 540: 'less', 541: 'lester', 542: 'let', 543: 'level', 544: 'lga', 545: 'like', 546: 'limo', 547: 'limousine', 548: 'limousines', 549: 'list', 550: 'listed', 551: 'listing', 552: 'listings', 553: 'live', 554: 'lives', 555: 'local', 556: 'locate', 557: 'located', 558: 'logan', 559: 'long', 560: 'longest', 561: 'look', 562: 'looking', 563: 'los', 564: 'louis', 565: 'love', 566: 'lowest', 567: 'ls', 568: 'lufthansa', 569: 'lunch', 570: 'm', 571: 'm80', 572: 'make', 573: 'makes', 574: 'making', 575: 'many', 576: 'march', 577: 'maximum', 578: 'may', 579: 'mci', 580: 'mco', 581: 'me', 582: 'meal', 583: 'meals', 584: 'mealtime', 585: 'mean', 586: 'meaning', 587: 'memphis', 588: 'mia', 589: 'miami', 590: 'michigan', 591: 'midnight', 592: 'midway', 593: 'midwest', 594: 'miles', 595: 'milwaukee', 596: 'minimum', 597: 'minneapolis', 598: 'minnesota', 599: 'missouri', 600: 'mitchell', 601: 'monday', 602: 'mondays', 603: 'month', 604: 'montreal', 605: 'more', 606: 'morning', 607: 'mornings', 608: 'most', 609: 'much', 610: 'must', 611: 'my', 612: 'name', 613: 'names', 614: 'nashville', 615: 'nationair', 616: 'near', 617: 'need', 618: 'nevada', 619: 'new', 620: 'newark', 621: 'next', 622: 'night', 623: 'nights', 624: 'nighttime', 625: 'nineteenth', 626: 'ninth', 627: 'no', 628: 'non', 629: 'nonstop', 630: 'nonstops', 631: 'noon', 632: 'noontime', 633: 'north', 634: 'northwest', 635: 'not', 636: 'november', 637: 'now', 638: 'number', 639: 'numbers', 640: 'nw', 641: 'o', 642: \"o'clock\", 643: 'oak', 644: 'oakland', 645: 'october', 646: 'of', 647: 'off', 648: 'offer', 649: 'offered', 650: 'offers', 651: 'oh', 652: 'ohio', 653: 'okay', 654: 'on', 655: 'once', 656: 'one', 657: 'only', 658: 'ontario', 659: 'operating', 660: 'operation', 661: 'options', 662: 'or', 663: 'ord', 664: 'order', 665: 'originate', 666: 'originating', 667: 'orlando', 668: 'other', 669: 'out', 670: 'over', 671: 'overnight', 672: 'passengers', 673: 'paul', 674: 'pearson', 675: 'pennsylvania', 676: 'people', 677: 'petersburg', 678: 'philadelphia', 679: 'philly', 680: 'phl', 681: 'phoenix', 682: 'pittsburgh', 683: 'place', 684: 'plan', 685: 'plane', 686: 'planes', 687: 'planning', 688: 'please', 689: 'pm', 690: 'possible', 691: 'prefer', 692: 'preferably', 693: 'price', 694: 'priced', 695: 'prices', 696: 'prior', 697: 'proper', 698: 'provide', 699: 'provided', 700: 'provides', 701: 'put', 702: 'q', 703: 'qo', 704: 'qualify', 705: 'quebec', 706: 'question', 707: 'qw', 708: 'qx', 709: 'rate', 710: 'rates', 711: 'reaches', 712: 'reaching', 713: 'red', 714: 'regarding', 715: 'rent', 716: 'rental', 717: 'rentals', 718: 'repeat', 719: 'repeating', 720: 'represented', 721: 'requesting', 722: 'reservation', 723: 'reservations', 724: 'restriction', 725: 'restrictions', 726: 'return', 727: 'returning', 728: 'reverse', 729: 'right', 730: 'round', 731: 'route', 732: 'run', 733: 'runs', 734: 's', 735: 'sa', 736: 'salt', 737: 'sam', 738: 'same', 739: 'san', 740: 'saturday', 741: 'saturdays', 742: 'say', 743: 'sb', 744: 'scenario', 745: 'schedule', 746: 'scheduled', 747: 'schedules', 748: 'sd', 749: 'seat', 750: 'seating', 751: 'seats', 752: 'seattle', 753: 'second', 754: 'see', 755: 'september', 756: 'serve', 757: 'served', 758: 'serves', 759: 'service', 760: 'serviced', 761: 'services', 762: 'serving', 763: 'seven', 764: 'seventeen', 765: 'seventeenth', 766: 'seventh', 767: 'sfo', 768: 'shortest', 769: 'should', 770: 'show', 771: 'single', 772: 'six', 773: 'sixteen', 774: 'sixteenth', 775: 'sixth', 776: 'smallest', 777: 'snack', 778: 'snacks', 779: 'so', 780: 'some', 781: 'somebody', 782: 'sometime', 783: 'soon', 784: 'sorry', 785: 'sort', 786: 'sounds', 787: 'southwest', 788: 'spend', 789: 'st.', 790: 'stand', 791: 'stands', 792: 'stapleton', 793: 'start', 794: 'starting', 795: 'staying', 796: 'still', 797: 'stop', 798: 'stopover', 799: 'stopovers', 800: 'stopping', 801: 'stops', 802: 'straight', 803: 'such', 804: 'summer', 805: 'sunday', 806: 'sundays', 807: 'supper', 808: 'sure', 809: 'symbols', 810: 'tacoma', 811: 'take', 812: 'takeoff', 813: 'takeoffs', 814: 'takes', 815: 'taking', 816: 'tampa', 817: 'taxi', 818: 'tell', 819: 'ten', 820: 'tennessee', 821: 'tenth', 822: 'texas', 823: 'than', 824: 'thank', 825: 'thanks', 826: 'that', 827: 'the', 828: 'their', 829: 'them', 830: 'then', 831: 'there', 832: 'thereafter', 833: 'these', 834: 'they', 835: 'thing', 836: 'third', 837: 'thirteenth', 838: 'thirtieth', 839: 'thirty', 840: 'this', 841: 'those', 842: 'three', 843: 'thrift', 844: 'through', 845: 'thursday', 846: 'thursdays', 847: 'ticket', 848: 'tickets', 849: 'time', 850: 'times', 851: 'to', 852: 'today', 853: 'tomorrow', 854: 'tonight', 855: 'too', 856: 'toronto', 857: 'total', 858: 'toward', 859: 'tower', 860: 'town', 861: 'tpa', 862: 'train', 863: 'trans', 864: 'transcontinental', 865: 'transport', 866: 'transportation', 867: 'travel', 868: 'traveling', 869: 'travels', 870: 'trip', 871: 'trips', 872: 'try', 873: 'trying', 874: 'tuesday', 875: 'tuesdays', 876: 'turboprop', 877: 'twa', 878: 'twelfth', 879: 'twelve', 880: 'twentieth', 881: 'twenty', 882: 'two', 883: 'type', 884: 'types', 885: 'ua', 886: 'under', 887: 'united', 888: 'up', 889: 'us', 890: 'usa', 891: 'use', 892: 'used', 893: 'uses', 894: 'using', 895: 'utah', 896: 'various', 897: 'vegas', 898: 'very', 899: 'via', 900: 'vicinity', 901: 'visit', 902: 'want', 903: 'wanted', 904: 'wants', 905: 'washington', 906: 'way', 907: 'we', 908: 'wednesday', 909: 'wednesdays', 910: 'week', 911: 'weekday', 912: 'weekdays', 913: 'well', 914: 'west', 915: 'westchester', 916: 'what', 917: 'when', 918: 'where', 919: 'whether', 920: 'which', 921: 'while', 922: 'who', 923: 'will', 924: 'wish', 925: 'with', 926: 'within', 927: 'without', 928: 'wn', 929: 'working', 930: 'world', 931: 'worth', 932: 'would', 933: 'y', 934: 'year', 935: 'yes', 936: 'yn', 937: 'york', 938: 'you', 939: 'your', 940: 'yx', 941: 'yyz', 942: 'zone'}\n",
            "\n",
            "Words to Index..\n",
            "\n",
            "{\"'d\": 0, \"'hare\": 1, \"'ll\": 2, \"'m\": 3, \"'re\": 4, \"'s\": 5, \"'t\": 6, \"'ve\": 7, '0900': 8, '1': 9, '10': 10, '100': 11, '1000': 12, '1017': 13, '1020': 14, '1024': 15, '1026': 16, '1030': 17, '1039': 18, '1045': 19, '1055': 20, '1059': 21, '106': 22, '1083': 23, '11': 24, '110': 25, '1100': 26, '1110': 27, '1115': 28, '1130': 29, '1133': 30, '1145': 31, '1158': 32, '12': 33, '1200': 34, '1201': 35, '1205': 36, '1207': 37, '1209': 38, '1220': 39, '1222': 40, '1230': 41, '124': 42, '1245': 43, '1288': 44, '1291': 45, '130': 46, '1300': 47, '137338': 48, '139': 49, '150': 50, '1500': 51, '1505': 52, '1600': 53, '163': 54, '1700': 55, '1765': 56, '1800': 57, '1850': 58, '19': 59, '1940': 60, '1991': 61, '1992': 62, '1993': 63, '1994': 64, '2': 65, '20': 66, '200': 67, '201': 68, '21': 69, '210': 70, '2100': 71, '212': 72, '2134': 73, '2153': 74, '217': 75, '225': 76, '229': 77, '230': 78, '257': 79, '269': 80, '270': 81, '271': 82, '279': 83, '281': 84, '296': 85, '297': 86, '3': 87, '300': 88, '305': 89, '311': 90, '315': 91, '320': 92, '323': 93, '324': 94, '329': 95, '3357': 96, '343': 97, '345': 98, '352': 99, '3724': 100, '382': 101, '4': 102, '400': 103, '402': 104, '405': 105, '415': 106, '416': 107, '417': 108, '419': 109, '420': 110, '428': 111, '43': 112, '430': 113, '4400': 114, '445': 115, '459': 116, '466': 117, '468': 118, '486': 119, '497766': 120, '5': 121, '500': 122, '505': 123, '515': 124, '530': 125, '539': 126, '55': 127, '555': 128, '57': 129, '6': 130, '608': 131, '615': 132, '630': 133, '639': 134, '645': 135, '650': 136, '665': 137, '673': 138, '7': 139, '705': 140, '71': 141, '718': 142, '720': 143, '723': 144, '727': 145, '72s': 146, '730': 147, '733': 148, '734': 149, '737': 150, '73s': 151, '746': 152, '747': 153, '755': 154, '757': 155, '767': 156, '771': 157, '8': 158, '80': 159, '810': 160, '811': 161, '813': 162, '815': 163, '819': 164, '82': 165, '823': 166, '825': 167, '838': 168, '842': 169, '845': 170, '852': 171, '9': 172, '928': 173, '932': 174, '934': 175, '950': 176, '98': 177, 'BOS': 178, 'EOS': 179, 'a': 180, 'aa': 181, 'abbreviation': 182, 'abbreviations': 183, 'able': 184, 'about': 185, 'ac': 186, 'across': 187, 'actually': 188, 'advertises': 189, 'after': 190, 'afternoon': 191, 'afternoons': 192, 'afterwards': 193, 'again': 194, 'air': 195, 'aircraft': 196, 'airfare': 197, 'airfares': 198, 'airline': 199, 'airlines': 200, 'airplane': 201, 'airplanes': 202, 'airport': 203, 'airports': 204, 'al': 205, 'alaska': 206, 'all': 207, 'along': 208, 'also': 209, 'am': 210, 'america': 211, 'american': 212, 'amount': 213, 'an': 214, 'and': 215, 'angeles': 216, 'another': 217, 'any': 218, 'anything': 219, 'anywhere': 220, 'ap': 221, 'ap57': 222, 'ap58': 223, 'ap68': 224, 'ap80': 225, 'approximately': 226, 'april': 227, 'are': 228, 'area': 229, 'arizona': 230, 'around': 231, 'arrange': 232, 'arrangements': 233, 'arrival': 234, 'arrivals': 235, 'arrive': 236, 'arrives': 237, 'arriving': 238, 'as': 239, 'at': 240, 'atl': 241, 'atlanta': 242, 'august': 243, 'available': 244, 'b': 245, 'back': 246, 'baltimore': 247, 'basis': 248, 'bay': 249, 'be': 250, 'be1': 251, 'beach': 252, 'before': 253, 'beginning': 254, 'begins': 255, 'being': 256, 'belong': 257, 'besides': 258, 'between': 259, 'bh': 260, 'bn': 261, 'bna': 262, 'boeing': 263, 'book': 264, 'booking': 265, 'boston': 266, 'both': 267, 'bound': 268, 'breakfast': 269, 'bring': 270, 'bur': 271, 'burbank': 272, 'business': 273, 'but': 274, 'buy': 275, 'bwi': 276, 'by': 277, 'c': 278, 'california': 279, 'called': 280, 'calling': 281, 'can': 282, 'canada': 283, 'canadian': 284, 'capacities': 285, 'capacity': 286, 'car': 287, 'carolina': 288, 'carried': 289, 'carries': 290, 'cars': 291, 'catch': 292, 'charges': 293, 'charlotte': 294, 'cheap': 295, 'cheapest': 296, 'chicago': 297, 'choices': 298, 'cincinnati': 299, 'cities': 300, 'city': 301, 'class': 302, 'classes': 303, 'cleveland': 304, 'close': 305, 'closest': 306, 'co': 307, 'coach': 308, 'code': 309, 'codes': 310, 'colorado': 311, 'columbus': 312, 'combination': 313, 'come': 314, 'comes': 315, 'coming': 316, 'companies': 317, 'concerning': 318, 'connect': 319, 'connecting': 320, 'connection': 321, 'connections': 322, 'connects': 323, 'continent': 324, 'continental': 325, 'continuing': 326, 'cost': 327, 'costs': 328, 'could': 329, 'county': 330, 'cover': 331, 'cp': 332, 'currently': 333, 'cvg': 334, 'd': 335, 'd10': 336, 'd9s': 337, 'daily': 338, 'dallas': 339, 'database': 340, 'date': 341, 'day': 342, 'days': 343, 'dc': 344, 'dc10': 345, 'dc9': 346, 'dca': 347, 'december': 348, 'define': 349, 'delta': 350, 'denver': 351, 'depart': 352, 'departing': 353, 'departs': 354, 'departure': 355, 'departures': 356, 'describe': 357, 'designate': 358, 'destination': 359, 'determine': 360, 'detroit': 361, 'dfw': 362, 'dh8': 363, 'diego': 364, 'difference': 365, 'different': 366, 'dinner': 367, 'dinnertime': 368, 'direct': 369, 'directly': 370, 'discount': 371, 'display': 372, 'distance': 373, 'dl': 374, 'do': 375, 'does': 376, 'doesn': 377, 'dollars': 378, 'don': 379, 'downtown': 380, 'dtw': 381, 'dulles': 382, 'during': 383, 'ea': 384, 'each': 385, 'earlier': 386, 'earliest': 387, 'early': 388, 'eastern': 389, 'economic': 390, 'economy': 391, 'eight': 392, 'eighteenth': 393, 'eighth': 394, 'either': 395, 'eleven': 396, 'eleventh': 397, 'else': 398, 'enroute': 399, 'equal': 400, 'equipment': 401, 'evening': 402, 'ever': 403, 'everywhere': 404, 'ewr': 405, 'exceeding': 406, 'expensive': 407, 'explain': 408, 'express': 409, 'eye': 410, 'f': 411, 'f28': 412, 'far': 413, 'fare': 414, 'fares': 415, 'february': 416, 'ff': 417, 'field': 418, 'fifteen': 419, 'fifteenth': 420, 'fifth': 421, 'final': 422, 'find': 423, 'fine': 424, 'first': 425, 'fit': 426, 'flies': 427, 'flight': 428, 'flights': 429, 'florida': 430, 'fly': 431, 'flying': 432, 'fn': 433, 'following': 434, 'for': 435, 'fort': 436, 'four': 437, 'fourteenth': 438, 'fourth': 439, 'francisco': 440, 'friday': 441, 'fridays': 442, 'friends': 443, 'from': 444, 'general': 445, 'georgia': 446, 'get': 447, 'gets': 448, 'give': 449, 'go': 450, 'goes': 451, 'going': 452, 'good': 453, 'got': 454, 'great': 455, 'greatest': 456, 'ground': 457, 'grounds': 458, 'guardia': 459, 'h': 460, 'hartfield': 461, 'has': 462, 'have': 463, 'having': 464, 'heading': 465, 'hello': 466, 'help': 467, 'here': 468, 'hi': 469, 'highest': 470, 'hold': 471, 'home': 472, 'hopefully': 473, 'hou': 474, 'hours': 475, 'houston': 476, 'how': 477, 'hp': 478, 'i': 479, 'iah': 480, 'if': 481, 'in': 482, 'include': 483, 'included': 484, 'includes': 485, 'including': 486, 'india': 487, 'indiana': 488, 'indianapolis': 489, 'inexpensive': 490, 'inform': 491, 'information': 492, 'instead': 493, 'intercontinental': 494, 'interested': 495, 'international': 496, 'into': 497, 'is': 498, 'it': 499, 'itinerary': 500, 'j31': 501, 'january': 502, 'jersey': 503, 'jet': 504, 'jfk': 505, 'jose': 506, 'july': 507, 'june': 508, 'just': 509, 'k': 510, 'kansas': 511, 'kennedy': 512, 'kind': 513, 'kindly': 514, 'kinds': 515, 'know': 516, 'kw': 517, 'l10': 518, 'l1011': 519, 'la': 520, 'lake': 521, 'land': 522, 'landing': 523, 'landings': 524, 'lands': 525, 'largest': 526, 'las': 527, 'last': 528, 'lastest': 529, 'late': 530, 'later': 531, 'latest': 532, 'lax': 533, 'laying': 534, 'layover': 535, 'least': 536, 'leave': 537, 'leaves': 538, 'leaving': 539, 'less': 540, 'lester': 541, 'let': 542, 'level': 543, 'lga': 544, 'like': 545, 'limo': 546, 'limousine': 547, 'limousines': 548, 'list': 549, 'listed': 550, 'listing': 551, 'listings': 552, 'live': 553, 'lives': 554, 'local': 555, 'locate': 556, 'located': 557, 'logan': 558, 'long': 559, 'longest': 560, 'look': 561, 'looking': 562, 'los': 563, 'louis': 564, 'love': 565, 'lowest': 566, 'ls': 567, 'lufthansa': 568, 'lunch': 569, 'm': 570, 'm80': 571, 'make': 572, 'makes': 573, 'making': 574, 'many': 575, 'march': 576, 'maximum': 577, 'may': 578, 'mci': 579, 'mco': 580, 'me': 581, 'meal': 582, 'meals': 583, 'mealtime': 584, 'mean': 585, 'meaning': 586, 'memphis': 587, 'mia': 588, 'miami': 589, 'michigan': 590, 'midnight': 591, 'midway': 592, 'midwest': 593, 'miles': 594, 'milwaukee': 595, 'minimum': 596, 'minneapolis': 597, 'minnesota': 598, 'missouri': 599, 'mitchell': 600, 'monday': 601, 'mondays': 602, 'month': 603, 'montreal': 604, 'more': 605, 'morning': 606, 'mornings': 607, 'most': 608, 'much': 609, 'must': 610, 'my': 611, 'name': 612, 'names': 613, 'nashville': 614, 'nationair': 615, 'near': 616, 'need': 617, 'nevada': 618, 'new': 619, 'newark': 620, 'next': 621, 'night': 622, 'nights': 623, 'nighttime': 624, 'nineteenth': 625, 'ninth': 626, 'no': 627, 'non': 628, 'nonstop': 629, 'nonstops': 630, 'noon': 631, 'noontime': 632, 'north': 633, 'northwest': 634, 'not': 635, 'november': 636, 'now': 637, 'number': 638, 'numbers': 639, 'nw': 640, 'o': 641, \"o'clock\": 642, 'oak': 643, 'oakland': 644, 'october': 645, 'of': 646, 'off': 647, 'offer': 648, 'offered': 649, 'offers': 650, 'oh': 651, 'ohio': 652, 'okay': 653, 'on': 654, 'once': 655, 'one': 656, 'only': 657, 'ontario': 658, 'operating': 659, 'operation': 660, 'options': 661, 'or': 662, 'ord': 663, 'order': 664, 'originate': 665, 'originating': 666, 'orlando': 667, 'other': 668, 'out': 669, 'over': 670, 'overnight': 671, 'passengers': 672, 'paul': 673, 'pearson': 674, 'pennsylvania': 675, 'people': 676, 'petersburg': 677, 'philadelphia': 678, 'philly': 679, 'phl': 680, 'phoenix': 681, 'pittsburgh': 682, 'place': 683, 'plan': 684, 'plane': 685, 'planes': 686, 'planning': 687, 'please': 688, 'pm': 689, 'possible': 690, 'prefer': 691, 'preferably': 692, 'price': 693, 'priced': 694, 'prices': 695, 'prior': 696, 'proper': 697, 'provide': 698, 'provided': 699, 'provides': 700, 'put': 701, 'q': 702, 'qo': 703, 'qualify': 704, 'quebec': 705, 'question': 706, 'qw': 707, 'qx': 708, 'rate': 709, 'rates': 710, 'reaches': 711, 'reaching': 712, 'red': 713, 'regarding': 714, 'rent': 715, 'rental': 716, 'rentals': 717, 'repeat': 718, 'repeating': 719, 'represented': 720, 'requesting': 721, 'reservation': 722, 'reservations': 723, 'restriction': 724, 'restrictions': 725, 'return': 726, 'returning': 727, 'reverse': 728, 'right': 729, 'round': 730, 'route': 731, 'run': 732, 'runs': 733, 's': 734, 'sa': 735, 'salt': 736, 'sam': 737, 'same': 738, 'san': 739, 'saturday': 740, 'saturdays': 741, 'say': 742, 'sb': 743, 'scenario': 744, 'schedule': 745, 'scheduled': 746, 'schedules': 747, 'sd': 748, 'seat': 749, 'seating': 750, 'seats': 751, 'seattle': 752, 'second': 753, 'see': 754, 'september': 755, 'serve': 756, 'served': 757, 'serves': 758, 'service': 759, 'serviced': 760, 'services': 761, 'serving': 762, 'seven': 763, 'seventeen': 764, 'seventeenth': 765, 'seventh': 766, 'sfo': 767, 'shortest': 768, 'should': 769, 'show': 770, 'single': 771, 'six': 772, 'sixteen': 773, 'sixteenth': 774, 'sixth': 775, 'smallest': 776, 'snack': 777, 'snacks': 778, 'so': 779, 'some': 780, 'somebody': 781, 'sometime': 782, 'soon': 783, 'sorry': 784, 'sort': 785, 'sounds': 786, 'southwest': 787, 'spend': 788, 'st.': 789, 'stand': 790, 'stands': 791, 'stapleton': 792, 'start': 793, 'starting': 794, 'staying': 795, 'still': 796, 'stop': 797, 'stopover': 798, 'stopovers': 799, 'stopping': 800, 'stops': 801, 'straight': 802, 'such': 803, 'summer': 804, 'sunday': 805, 'sundays': 806, 'supper': 807, 'sure': 808, 'symbols': 809, 'tacoma': 810, 'take': 811, 'takeoff': 812, 'takeoffs': 813, 'takes': 814, 'taking': 815, 'tampa': 816, 'taxi': 817, 'tell': 818, 'ten': 819, 'tennessee': 820, 'tenth': 821, 'texas': 822, 'than': 823, 'thank': 824, 'thanks': 825, 'that': 826, 'the': 827, 'their': 828, 'them': 829, 'then': 830, 'there': 831, 'thereafter': 832, 'these': 833, 'they': 834, 'thing': 835, 'third': 836, 'thirteenth': 837, 'thirtieth': 838, 'thirty': 839, 'this': 840, 'those': 841, 'three': 842, 'thrift': 843, 'through': 844, 'thursday': 845, 'thursdays': 846, 'ticket': 847, 'tickets': 848, 'time': 849, 'times': 850, 'to': 851, 'today': 852, 'tomorrow': 853, 'tonight': 854, 'too': 855, 'toronto': 856, 'total': 857, 'toward': 858, 'tower': 859, 'town': 860, 'tpa': 861, 'train': 862, 'trans': 863, 'transcontinental': 864, 'transport': 865, 'transportation': 866, 'travel': 867, 'traveling': 868, 'travels': 869, 'trip': 870, 'trips': 871, 'try': 872, 'trying': 873, 'tuesday': 874, 'tuesdays': 875, 'turboprop': 876, 'twa': 877, 'twelfth': 878, 'twelve': 879, 'twentieth': 880, 'twenty': 881, 'two': 882, 'type': 883, 'types': 884, 'ua': 885, 'under': 886, 'united': 887, 'up': 888, 'us': 889, 'usa': 890, 'use': 891, 'used': 892, 'uses': 893, 'using': 894, 'utah': 895, 'various': 896, 'vegas': 897, 'very': 898, 'via': 899, 'vicinity': 900, 'visit': 901, 'want': 902, 'wanted': 903, 'wants': 904, 'washington': 905, 'way': 906, 'we': 907, 'wednesday': 908, 'wednesdays': 909, 'week': 910, 'weekday': 911, 'weekdays': 912, 'well': 913, 'west': 914, 'westchester': 915, 'what': 916, 'when': 917, 'where': 918, 'whether': 919, 'which': 920, 'while': 921, 'who': 922, 'will': 923, 'wish': 924, 'with': 925, 'within': 926, 'without': 927, 'wn': 928, 'working': 929, 'world': 930, 'worth': 931, 'would': 932, 'y': 933, 'year': 934, 'yes': 935, 'yn': 936, 'york': 937, 'you': 938, 'your': 939, 'yx': 940, 'yyz': 941, 'zone': 942}\n"
          ],
          "name": "stdout"
        }
      ]
    },
    {
      "cell_type": "code",
      "metadata": {
        "id": "yjj6H7xcTZuQ"
      },
      "source": [
        "# Read the train and test data sets in to Pandas dataframes\n",
        "train_df = pd.read_csv(\"train.csv\")\n",
        "test_df = pd.read_csv(\"test.csv\")"
      ],
      "execution_count": null,
      "outputs": []
    },
    {
      "cell_type": "code",
      "metadata": {
        "colab": {
          "base_uri": "https://localhost:8080/"
        },
        "id": "bMcP5LkVT5gT",
        "outputId": "1a8b0906-adac-4621-c77b-068c15f9df60"
      },
      "source": [
        "# Examine the dataframes for sanity\n",
        "print(\"\\nTrain data...\\n\")\n",
        "print(train_df.head(5))\n",
        "print(\"\\nTest data...\\n\")\n",
        "print(test_df.head(5))"
      ],
      "execution_count": null,
      "outputs": [
        {
          "output_type": "stream",
          "text": [
            "\n",
            "Train data...\n",
            "\n",
            "                                               query  ... intent\n",
            "0  178 479 902 851 431 444 266 240 168 210 215 23...  ...     14\n",
            "1  178 916 429 228 244 444 682 851 247 654 845 60...  ...     14\n",
            "2  178 916 498 827 234 849 482 739 440 435 827 15...  ...     19\n",
            "3                    178 296 197 444 810 851 667 179  ...      3\n",
            "4     178 730 870 415 444 682 851 678 886 12 378 179  ...      3\n",
            "\n",
            "[5 rows x 3 columns]\n",
            "\n",
            "Test data...\n",
            "\n",
            "                                               query  ... intent\n",
            "0  178 479 932 545 851 423 180 428 444 294 851 52...  ...     14\n",
            "1  178 654 227 425 479 617 180 847 444 810 851 73...  ...      3\n",
            "2  178 654 227 425 479 617 180 428 452 444 681 85...  ...     14\n",
            "3  178 479 932 545 180 428 868 656 906 444 681 85...  ...     14\n",
            "4  178 479 932 545 180 428 444 667 851 736 521 30...  ...     14\n",
            "\n",
            "[5 rows x 3 columns]\n"
          ],
          "name": "stdout"
        }
      ]
    },
    {
      "cell_type": "code",
      "metadata": {
        "colab": {
          "base_uri": "https://localhost:8080/"
        },
        "id": "aEC-yFt1UEN5",
        "outputId": "e14eb06c-0efe-4b30-e2d0-8fcb4aa552b4"
      },
      "source": [
        "# Compose the Named Entity Recognition (NER) model for slot labelling\n",
        "\n",
        "# Evaluate the No. of words in the vocabulary\n",
        "vocab_cnt = len(ind2word_dict)\n",
        "\n",
        "# Evaluate the No. of slot labels in the vocabulary\n",
        "slots_cnt = len(ind2slot_dict)\n",
        "\n",
        "# Initialize sequential API for model building\n",
        "NER_Model = Sequential()\n",
        "NER_Model.add(Embedding(vocab_cnt, 300))\n",
        "NER_Model.add(Convolution1D(128, 5, padding = 'same', activation='relu'))\n",
        "NER_Model.add(Dropout(0.20))\n",
        "NER_Model.add(Bidirectional(LSTM(100,return_sequences=True)))\n",
        "NER_Model.add(Bidirectional(LSTM(100,return_sequences=True)))\n",
        "NER_Model.add(TimeDistributed(Dense(slots_cnt, activation='softmax')))\n",
        "\n",
        "# Compile model & display the model summary\n",
        "NER_Model.compile('rmsprop', 'categorical_crossentropy')\n",
        "NER_Model.summary()"
      ],
      "execution_count": null,
      "outputs": [
        {
          "output_type": "stream",
          "text": [
            "Model: \"sequential_3\"\n",
            "_________________________________________________________________\n",
            "Layer (type)                 Output Shape              Param #   \n",
            "=================================================================\n",
            "embedding_3 (Embedding)      (None, None, 300)         282900    \n",
            "_________________________________________________________________\n",
            "conv1d_3 (Conv1D)            (None, None, 128)         192128    \n",
            "_________________________________________________________________\n",
            "dropout_3 (Dropout)          (None, None, 128)         0         \n",
            "_________________________________________________________________\n",
            "bidirectional_6 (Bidirection (None, None, 200)         183200    \n",
            "_________________________________________________________________\n",
            "bidirectional_7 (Bidirection (None, None, 200)         240800    \n",
            "_________________________________________________________________\n",
            "time_distributed_3 (TimeDist (None, None, 129)         25929     \n",
            "=================================================================\n",
            "Total params: 924,957\n",
            "Trainable params: 924,957\n",
            "Non-trainable params: 0\n",
            "_________________________________________________________________\n"
          ],
          "name": "stdout"
        }
      ]
    },
    {
      "cell_type": "code",
      "metadata": {
        "colab": {
          "base_uri": "https://localhost:8080/"
        },
        "id": "B0rKxpzOVB6X",
        "outputId": "76ef3a42-9d58-45f2-c30c-30669f77cd63"
      },
      "source": [
        "# Train NER model\n",
        "\n",
        "# Initialize the No. of epochs\n",
        "num_epochs = 5\n",
        "\n",
        "# For loop to iterate through the epochs\n",
        "for i in range(num_epochs):\n",
        "  \n",
        "  \n",
        "  print(\"\\n\")\n",
        "  print(\"\\nEpoch {}\".format(i + 1))  \n",
        "\n",
        "  # Include progress bar to display the training progress..\n",
        "  bar = progressbar.ProgressBar(max_value=len(train_df))\n",
        "\n",
        "  # For loop to iterate through the sentences one by one\n",
        "  # Each sentence is treated as a batch\n",
        "  for j in bar(range(len(train_df))):\n",
        "\n",
        "    # Fetch the sentence\n",
        "    query = train_df.loc[j, \"query\"]\n",
        "    slots = train_df.loc[j, \"slots\"]\n",
        "\n",
        "    # Convert the query and slots columns in to np.int32 arrays\n",
        "    arr_query = np.array(query.split(), dtype = np.int32)\n",
        "    arr_slots = np.array(slots.split(), dtype = np.int32)\n",
        "\n",
        "    # Compose X_train by converting to a (1, n) dimension\n",
        "    X_train = arr_query[np.newaxis,:]\n",
        "\n",
        "    # Compose y_train based on one-hot encoding to a (1, n, slots_cnt) dimension\n",
        "    y_train = np.eye(slots_cnt)[arr_slots][np.newaxis,:]\n",
        "\n",
        "    # Fit the model after checking and excluding single word sentences\n",
        "    if (X_train.shape[1] > 1):\n",
        "      NER_Model.train_on_batch(X_train, y_train)"
      ],
      "execution_count": null,
      "outputs": [
        {
          "output_type": "stream",
          "text": [
            "\r                                                                               \r\rN/A% (0 of 4978) |                       | Elapsed Time: 0:00:00 ETA:  --:--:--"
          ],
          "name": "stderr"
        },
        {
          "output_type": "stream",
          "text": [
            "\n",
            "\n",
            "\n",
            "Epoch 1\n"
          ],
          "name": "stdout"
        },
        {
          "output_type": "stream",
          "text": [
            "100% (4978 of 4978) |####################| Elapsed Time: 0:01:31 Time:  0:01:31\n",
            "  0% (7 of 4978) |                       | Elapsed Time: 0:00:00 ETA:   0:01:15"
          ],
          "name": "stderr"
        },
        {
          "output_type": "stream",
          "text": [
            "\n",
            "\n",
            "\n",
            "Epoch 2\n"
          ],
          "name": "stdout"
        },
        {
          "output_type": "stream",
          "text": [
            "100% (4978 of 4978) |####################| Elapsed Time: 0:01:21 Time:  0:01:21\n",
            "  0% (7 of 4978) |                       | Elapsed Time: 0:00:00 ETA:   0:01:22"
          ],
          "name": "stderr"
        },
        {
          "output_type": "stream",
          "text": [
            "\n",
            "\n",
            "\n",
            "Epoch 3\n"
          ],
          "name": "stdout"
        },
        {
          "output_type": "stream",
          "text": [
            "100% (4978 of 4978) |####################| Elapsed Time: 0:01:20 Time:  0:01:20\n",
            "  0% (7 of 4978) |                       | Elapsed Time: 0:00:00 ETA:   0:01:18"
          ],
          "name": "stderr"
        },
        {
          "output_type": "stream",
          "text": [
            "\n",
            "\n",
            "\n",
            "Epoch 4\n"
          ],
          "name": "stdout"
        },
        {
          "output_type": "stream",
          "text": [
            "100% (4978 of 4978) |####################| Elapsed Time: 0:01:20 Time:  0:01:20\n",
            "  0% (7 of 4978) |                       | Elapsed Time: 0:00:00 ETA:   0:01:17"
          ],
          "name": "stderr"
        },
        {
          "output_type": "stream",
          "text": [
            "\n",
            "\n",
            "\n",
            "Epoch 5\n"
          ],
          "name": "stdout"
        },
        {
          "output_type": "stream",
          "text": [
            "100% (4978 of 4978) |####################| Elapsed Time: 0:01:20 Time:  0:01:20\n"
          ],
          "name": "stderr"
        }
      ]
    },
    {
      "cell_type": "code",
      "metadata": {
        "colab": {
          "base_uri": "https://localhost:8080/"
        },
        "id": "OfISp6-2W2up",
        "outputId": "104e9891-2251-437c-995e-37e75fd9f847"
      },
      "source": [
        "# Set input sentence for slot labelling\n",
        "inp_sentence = input(\"Input Sentence: \")\n",
        "\n",
        "print(\"\\n\")\n",
        "\n",
        "# Split the sentence in to a list of words\n",
        "word_list = inp_sentence.split()\n",
        "\n",
        "# Initialize a list to hold the sentence's word's indices\n",
        "word_list_idx = []\n",
        "\n",
        "# Compose the list of indices for the sentence's words\n",
        "for i in word_list:\n",
        "  word_list_idx.append(word2ind_dict[i])\n",
        "\n",
        "# Predict using the trained/loaded model\n",
        "pred = NER_Model.predict(np.array(word_list_idx, dtype = np.int32)[np.newaxis,:])\n",
        "\n",
        "# Print the slot labels\n",
        "print(\"Word\".ljust(15, ' '), \"Index\".ljust(6, ' '), \"Slot Label\", \"\\n\")\n",
        "for i, word in enumerate(word_list):\n",
        "  print(word.ljust(15, ' '), str(word2ind_dict[word]).ljust(6, ' '), ind2slot_dict[np.argmax(pred[0][i])])"
      ],
      "execution_count": null,
      "outputs": [
        {
          "output_type": "stream",
          "text": [
            "Input Sentence: what flights are there from boston to new york\n",
            "\n",
            "\n",
            "Word            Index  Slot Label \n",
            "\n",
            "what            916    O\n",
            "flights         429    O\n",
            "are             228    O\n",
            "there           831    O\n",
            "from            444    O\n",
            "boston          266    B-fromloc.city_name\n",
            "to              851    O\n",
            "new             619    B-toloc.city_name\n",
            "york            937    I-toloc.city_name\n"
          ],
          "name": "stdout"
        }
      ]
    },
    {
      "cell_type": "code",
      "metadata": {
        "id": "pmp5vIIrNnSd"
      },
      "source": [
        "# Saving model\n",
        "NER_Model.save('NER_Model.h5',overwrite = True)"
      ],
      "execution_count": null,
      "outputs": []
    },
    {
      "cell_type": "code",
      "metadata": {
        "id": "QfCKRvhZOO9p"
      },
      "source": [
        "# Load saved model\n",
        "NER_Model = load_model('NER_Model.h5')"
      ],
      "execution_count": null,
      "outputs": []
    }
  ]
}